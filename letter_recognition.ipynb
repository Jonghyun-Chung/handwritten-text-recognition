{
 "cells": [
  {
   "cell_type": "code",
   "execution_count": 1,
   "metadata": {},
   "outputs": [],
   "source": [
    "import numpy as np\n",
    "import os\n",
    "import math\n",
    "import matplotlib.pyplot\n",
    "import glob\n",
    "from PIL import Image, ImageFilter\n",
    "import scipy.ndimage\n",
    "%matplotlib inline"
   ]
  },
  {
   "cell_type": "code",
   "execution_count": 2,
   "metadata": {},
   "outputs": [],
   "source": [
    "# read emnist dataset from https://www.kaggle.com/crawford/emnist\n",
    "training_data_file = open(\"mnist_dataset/emnist-letters-train.csv\", 'r')\n",
    "training_data_list = training_data_file.readlines()\n",
    "training_data_file.close()\n",
    "\n",
    "test_data_file = open(\"mnist_dataset/emnist-letters-test.csv\", 'r')\n",
    "test_data_list = test_data_file.readlines()\n",
    "test_data_file.close()"
   ]
  },
  {
   "cell_type": "code",
   "execution_count": 3,
   "metadata": {},
   "outputs": [],
   "source": [
    "# neural network class based on makeyourownneuralnetwork book\n",
    "class neuralNetwork:\n",
    "    def __init__(self, inputnodes, hiddennodes, outputnodes, learningrate):\n",
    "        \"\"\"\n",
    "        initializer of neuralNetwork \n",
    "        inputnodes: number of nodes in input layer\n",
    "        hiddennodes: number of nodes in hidden layer\n",
    "        outputnodes: number of nodes in output layer\n",
    "        learningrate: learning rate of neural network\n",
    "        \"\"\"\n",
    "        self.nodes_in, self.nodes_hidden, self.nodes_out, self.rate_learning = inputnodes, hiddennodes, outputnodes, learningrate\n",
    "        self.weights_hiddenout = np.random.normal(0, (self.nodes_hidden)**(-1/2), (self.nodes_out, self.nodes_hidden))\n",
    "        self.weights_inhidden = np.random.normal(0, (self.nodes_in)**(-1/2), (self.nodes_hidden, self.nodes_in))\n",
    "    \n",
    "    def activation_function(self, x):\n",
    "        def sigmoid(m):\n",
    "            # numpy implementation of sigmoid function\n",
    "            return 1.0/(1.0+np.exp(-m))\n",
    "        return sigmoid(x)\n",
    "        \n",
    "    def train(self, inputs, targets):\n",
    "        \"\"\"\n",
    "        train the neuralNetwork\n",
    "        inputs: image value list\n",
    "        targets: list of target values\n",
    "        \"\"\"\n",
    "        i = np.array(inputs, ndmin=2).T\n",
    "        t = np.array(targets, ndmin=2).T\n",
    "        \n",
    "        o_hidden = self.activation_function(np.dot(self.weights_inhidden, i))\n",
    "        o_out = self.activation_function(np.dot(self.weights_hiddenout, o_hidden))\n",
    "        err_out = t - o_out\n",
    "        err_hidden = np.dot(self.weights_hiddenout.T, err_out)\n",
    "        temp1, temp2 = o_out * (1.0-o_out) * err_out, o_hidden * (1.0-o_hidden) * err_hidden\n",
    "        self.weights_inhidden += np.dot(temp2, np.transpose(i)) * (self.rate_learning)\n",
    "        self.weights_hiddenout += np.dot(temp1, np.transpose(o_hidden)) * (self.rate_learning)\n",
    "        \n",
    "    def query(self, inputs):\n",
    "        \"\"\"\n",
    "        query the neuralNetwork\n",
    "        li: list of input values if uploadedImage is False else image value list\n",
    "        uploadedImage: True if querying uploaded image\n",
    "        \"\"\"\n",
    "        i = np.array(inputs, ndmin=2).T\n",
    "        o_hidden = self.activation_function(np.dot(self.weights_inhidden, i))\n",
    "        o_out = self.activation_function(np.dot(self.weights_hiddenout, o_hidden))\n",
    "        return o_out\n",
    "    \n",
    "    # save neural network weights\n",
    "    def save(self):\n",
    "        np.save('letter_wih.npy', self.weights_inhidden)\n",
    "        np.save('letter_who.npy', self.weights_hiddenout)\n",
    "\n",
    "    # load neural network weights\n",
    "    def load(self):\n",
    "        self.weights_inhidden = np.load('letter_wih.npy')\n",
    "        self.weights_hiddenout = np.load('letter_who.npy')\n"
   ]
  },
  {
   "cell_type": "code",
   "execution_count": 4,
   "metadata": {},
   "outputs": [],
   "source": [
    "def getInputs(arr):\n",
    "    # function returns list of input values from image value list\n",
    "    return 0.01 + (np.asfarray(arr[1:])/256.0)"
   ]
  },
  {
   "cell_type": "code",
   "execution_count": 5,
   "metadata": {},
   "outputs": [],
   "source": [
    "# initialize the neural network object \n",
    "input_nodes, hidden_nodes, output_nodes, learning_rate = 784, 200, 27, 0.1\n",
    "\n",
    "nn = neuralNetwork(input_nodes, hidden_nodes, output_nodes, learning_rate)"
   ]
  },
  {
   "cell_type": "code",
   "execution_count": 12,
   "metadata": {},
   "outputs": [],
   "source": [
    "# train the neural network \n",
    "#epochs = 5\n",
    "#\n",
    "#for _ in range(epochs):\n",
    "#    for image in training_data_list:\n",
    "#        vals = image.split(',')\n",
    "#        inputs = getInputs(vals)\n",
    "#        targets = np.zeros(output_nodes) + 0.01\n",
    "#        targets[int(vals[0])] = 0.99\n",
    "#        nn.train(inputs, targets)\n",
    "nn.load()"
   ]
  },
  {
   "cell_type": "code",
   "execution_count": 13,
   "metadata": {},
   "outputs": [
    {
     "name": "stdout",
     "output_type": "stream",
     "text": [
      "Accuracy Performance:  0.8243918918918919\n"
     ]
    }
   ],
   "source": [
    "# test the neural network\n",
    "tlist = []\n",
    "\n",
    "for image in test_data_list:\n",
    "    vals = image.split(',')\n",
    "    correct_val = int(vals[0])\n",
    "    inputs = getInputs(vals)\n",
    "    outputs = nn.query(inputs)\n",
    "    output_val = np.argmax(outputs)\n",
    "    tlist.append(int(output_val==correct_val))\n",
    "    \n",
    "# calculate accuracy performance of neural network\n",
    "test_result = np.asarray(tlist)\n",
    "acc_performance = test_result.sum()/test_result.size\n",
    "print(\"Accuracy Performance: \", acc_performance)"
   ]
  },
  {
   "cell_type": "code",
   "execution_count": 14,
   "metadata": {},
   "outputs": [],
   "source": [
    "#nn.save()"
   ]
  },
  {
   "cell_type": "code",
   "execution_count": 15,
   "metadata": {},
   "outputs": [],
   "source": [
    "def imageprepare(fpath):\n",
    "    \"\"\"\n",
    "    returns pixel values of image in fpath\n",
    "    fpath: path to png image location\n",
    "    \"\"\"\n",
    "    im = Image.open(fpath).convert('L')\n",
    "    h, w = float(im.size[1]), float(im.size[0])\n",
    "    newImg = Image.new('L', (28, 28), (256))\n",
    "    if w <= h:\n",
    "        newW = int(round((20.0/h*w), 0))\n",
    "        if newW == 0:\n",
    "            newW+=1\n",
    "        img = im.resize((newW, 20), Image.ANTIALIAS).filter(ImageFilter.SHARPEN)\n",
    "        leftW = int(round(((28-newW)/2), 0))\n",
    "        newImg.paste(img, (leftW, 4))\n",
    "    else:\n",
    "        newH = int(round((20.0/w*h), 0))\n",
    "        if newH == 0:\n",
    "            newH+=1\n",
    "        img = im.resize((20, newH), Image.ANTIALIAS).filter(ImageFilter.SHARPEN)\n",
    "        topW = int(round(((28-newH)/2), 0))\n",
    "        newImg.paste(img, (4, topW))\n",
    "    plist = [(256-x)*1.0 / 256.0 for x in newImg.getdata()]\n",
    "    return plist"
   ]
  },
  {
   "cell_type": "code",
   "execution_count": 34,
   "metadata": {},
   "outputs": [],
   "source": [
    "# testing custom image\n",
    "alp = \"ABCDEFGHIJKLMNOPQRSTUVWXYZ\"\n",
    "uploaded_img = []\n",
    "for image in glob.glob('static/B.png'): \n",
    "    label = alp.index(image[-5:-4])\n",
    "    x=imageprepare(image)#file path here\n",
    "    record = np.append(label,x)\n",
    "    uploaded_img.append(record)\n"
   ]
  },
  {
   "cell_type": "code",
   "execution_count": 35,
   "metadata": {},
   "outputs": [
    {
     "data": {
      "text/plain": [
       "<matplotlib.image.AxesImage at 0x119de9dd0>"
      ]
     },
     "execution_count": 35,
     "metadata": {},
     "output_type": "execute_result"
    },
    {
     "data": {
      "image/png": "[encoded data removed]",
      "text/plain": [
       "<Figure size 432x288 with 1 Axes>"
      ]
     },
     "metadata": {
      "needs_background": "light"
     },
     "output_type": "display_data"
    }
   ],
   "source": [
    "matplotlib.pyplot.imshow(uploaded_img[0][1:].reshape(28,28), cmap='Greys', interpolation='None')\n"
   ]
  },
  {
   "cell_type": "code",
   "execution_count": 36,
   "metadata": {},
   "outputs": [
    {
     "name": "stdout",
     "output_type": "stream",
     "text": [
      "1.0\n",
      "[[0.02791936]\n",
      " [0.08563499]\n",
      " [0.09648043]\n",
      " [0.01499123]\n",
      " [0.0357131 ]\n",
      " [0.1138359 ]\n",
      " [0.02489359]\n",
      " [0.10532687]\n",
      " [0.02208298]\n",
      " [0.02809529]\n",
      " [0.01073883]\n",
      " [0.13971161]\n",
      " [0.01093295]\n",
      " [0.18495685]\n",
      " [0.03650939]\n",
      " [0.05512888]\n",
      " [0.02745001]\n",
      " [0.28477931]\n",
      " [0.03800086]\n",
      " [0.04482233]\n",
      " [0.01445314]\n",
      " [0.08449571]\n",
      " [0.03547355]\n",
      " [0.17067268]\n",
      " [0.19186672]\n",
      " [0.02002767]\n",
      " [0.04218402]]\n",
      "network says  17\n",
      "no match!\n"
     ]
    }
   ],
   "source": [
    "item = 0\n",
    "correct_label = uploaded_img[item][0]\n",
    "print(correct_label)\n",
    "inputs = uploaded_img[item][1:]\n",
    "outputs = nn.query(inputs)\n",
    "print(outputs)\n",
    "label1 = np.argmax(outputs)\n",
    "print(\"network says \", label1)\n",
    "# append correct or incorrect to list\n",
    "if (label1 == correct_label):\n",
    "    print (\"match!\")\n",
    "else:\n",
    "    print (\"no match!\")\n",
    "    pass"
   ]
  },
  {
   "cell_type": "code",
   "execution_count": null,
   "metadata": {},
   "outputs": [],
   "source": []
  },
  {
   "cell_type": "code",
   "execution_count": null,
   "metadata": {},
   "outputs": [],
   "source": []
  },
  {
   "cell_type": "code",
   "execution_count": null,
   "metadata": {},
   "outputs": [],
   "source": []
  },
  {
   "cell_type": "code",
   "execution_count": null,
   "metadata": {},
   "outputs": [],
   "source": []
  },
  {
   "cell_type": "code",
   "execution_count": null,
   "metadata": {},
   "outputs": [],
   "source": []
  },
  {
   "cell_type": "code",
   "execution_count": null,
   "metadata": {},
   "outputs": [],
   "source": []
  }
 ],
 "metadata": {
  "kernelspec": {
   "display_name": "Python 3",
   "language": "python",
   "name": "python3"
  },
  "language_info": {
   "codemirror_mode": {
    "name": "ipython",
    "version": 3
   },
   "file_extension": ".py",
   "mimetype": "text/x-python",
   "name": "python",
   "nbconvert_exporter": "python",
   "pygments_lexer": "ipython3",
   "version": "3.6.10"
  }
 },
 "nbformat": 4,
 "nbformat_minor": 4
}
