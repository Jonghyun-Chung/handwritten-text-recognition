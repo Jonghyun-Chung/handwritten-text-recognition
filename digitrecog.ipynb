{
 "cells": [
  {
   "cell_type": "code",
   "execution_count": 1,
   "metadata": {},
   "outputs": [],
   "source": [
    "import numpy as np\n",
    "import os\n",
    "import math\n",
    "#import _pickle as pickle\n",
    "import imageio\n",
    "import matplotlib.pyplot\n",
    "import glob\n",
    "import cv2\n",
    "from scipy import ndimage\n",
    "from PIL import Image, ImageFilter\n",
    "%matplotlib inline"
   ]
  },
  {
   "cell_type": "code",
   "execution_count": 2,
   "metadata": {},
   "outputs": [],
   "source": [
    "# format dataset from https://www.kaggle.com/oddrationale/mnist-in-csv\n",
    "with open(\"mnist_dataset/mnist_train.csv\", 'r') as f:\n",
    "    with open(\"mnist_dataset/updated_train.csv\", \"w\") as f1:\n",
    "        next(f)\n",
    "        for line in f:\n",
    "            f1.write(line)\n",
    "            \n",
    "with open(\"mnist_dataset/mnist_test.csv\", 'r') as f:\n",
    "    with open(\"mnist_dataset/updated_test.csv\", \"w\") as f1:\n",
    "        next(f)\n",
    "        for line in f:\n",
    "            f1.write(line)\n",
    "    \n",
    "# read mnist dataset\n",
    "training_data_file = open(\"mnist_dataset/updated_train.csv\", 'r')\n",
    "training_data_list = training_data_file.readlines()\n",
    "training_data_file.close()\n",
    "\n",
    "test_data_file = open(\"mnist_dataset/updated_test.csv\", 'r')\n",
    "test_data_list = test_data_file.readlines()\n",
    "test_data_file.close()"
   ]
  },
  {
   "cell_type": "code",
   "execution_count": 3,
   "metadata": {},
   "outputs": [],
   "source": [
    "# neural network class based on makeyourownneuralnetwork book\n",
    "class neuralNetwork:\n",
    "    def __init__(self, inputnodes, hiddennodes, outputnodes, learningrate):\n",
    "        \"\"\"\n",
    "        initializer of neuralNetwork \n",
    "        inputnodes: number of nodes in input layer\n",
    "        hiddennodes: number of nodes in hidden layer\n",
    "        outputnodes: number of nodes in output layer\n",
    "        learningrate: learning rate of neural network\n",
    "        \"\"\"\n",
    "        self.nodes_in, self.nodes_hidden, self.nodes_out, self.rate_learning = inputnodes, hiddennodes, outputnodes, learningrate\n",
    "        self.weights_hiddenout = np.random.normal(0, (self.nodes_hidden)**(-1/2), (self.nodes_out, self.nodes_hidden))\n",
    "        self.weights_inhidden = np.random.normal(0, (self.nodes_in)**(-1/2), (self.nodes_hidden, self.nodes_in))\n",
    "    \n",
    "    def activation_function(self, x):\n",
    "        def sigmoid(m):\n",
    "            # numpy implementation of sigmoid function\n",
    "            return 1.0/(1.0+np.exp(-m))\n",
    "        return sigmoid(x)\n",
    "        \n",
    "    def train(self, inputs, targets):\n",
    "        \"\"\"\n",
    "        train the neuralNetwork\n",
    "        inputs: image value list\n",
    "        targets: list of target values\n",
    "        \"\"\"\n",
    "        i = np.array(inputs, ndmin=2).T\n",
    "        t = np.array(targets, ndmin=2).T\n",
    "        \n",
    "        o_hidden = self.activation_function(np.dot(self.weights_inhidden, i))\n",
    "        o_out = self.activation_function(np.dot(self.weights_hiddenout, o_hidden))\n",
    "        err_out = t - o_out\n",
    "        err_hidden = np.dot(self.weights_hiddenout.T, err_out)\n",
    "        temp1, temp2 = o_out * (1.0-o_out) * err_out, o_hidden * (1.0-o_hidden) * err_hidden\n",
    "        self.weights_inhidden += np.dot(temp2, np.transpose(i)) * (self.rate_learning)\n",
    "        self.weights_hiddenout += np.dot(temp1, np.transpose(o_hidden)) * (self.rate_learning)\n",
    "        \n",
    "    def query(self, inputs):\n",
    "        \"\"\"\n",
    "        query the neuralNetwork\n",
    "        li: list of input values if uploadedImage is False else image value list\n",
    "        uploadedImage: True if querying uploaded image\n",
    "        \"\"\"\n",
    "        i = np.array(inputs, ndmin=2).T\n",
    "        o_hidden = self.activation_function(np.dot(self.weights_inhidden, i))\n",
    "        o_out = self.activation_function(np.dot(self.weights_hiddenout, o_hidden))\n",
    "        return o_out\n",
    "    \n",
    "    # save neural network weights\n",
    "    def save(self):\n",
    "        np.save('digit_wih.npy', self.weights_inhidden)\n",
    "        np.save('digit_who.npy', self.weights_hiddenout)\n",
    "\n",
    "    # load neural network weights\n",
    "    def load(self):\n",
    "        self.weights_inhidden = np.load('digit_wih.npy')\n",
    "        self.weights_hiddenout = np.load('digit_who.npy')\n"
   ]
  },
  {
   "cell_type": "code",
   "execution_count": 4,
   "metadata": {},
   "outputs": [],
   "source": [
    "def getInputs(arr):\n",
    "    # function returns list of input values from image value list\n",
    "    return 0.01 + (np.asfarray(arr[1:]) * float(99/100) * float(1/255))\n",
    "\n"
   ]
  },
  {
   "cell_type": "code",
   "execution_count": 5,
   "metadata": {},
   "outputs": [],
   "source": [
    "input_nodes, hidden_nodes, output_nodes, learning_rate = 784, 200, 10, 0.1\n",
    "nn = neuralNetwork(input_nodes, hidden_nodes, output_nodes, learning_rate)"
   ]
  },
  {
   "cell_type": "code",
   "execution_count": 7,
   "metadata": {},
   "outputs": [],
   "source": [
    "# train the neural network \n",
    "\n",
    "epochs = 3\n",
    "\n",
    "for _ in range(epochs):\n",
    "    for image in training_data_list:\n",
    "        vals = image.split(',')\n",
    "        inputs = getInputs(vals)\n",
    "        targets = np.zeros(output_nodes) + 0.01\n",
    "        targets[int(vals[0])] = 0.99\n",
    "        nn.train(inputs, targets)\n",
    "        \n",
    "        \n",
    "        #inputs_rotright = scipy.ndimage.interpolation.rotate(inputs.reshape(28,28), 12, cval=0.01, order=1, reshape=False)\n",
    "        #nn.train(inputs_rotright.reshape(784), targets)\n",
    "        #inputs_rotleft = scipy.ndimage.interpolation.rotate(inputs.reshape(28, 28), -12, cval=0.01, order=1, reshape=False)\n",
    "        #nn.train(inputs_rotleft.reshape(784), targets)\n",
    "        \n",
    "nn.save()"
   ]
  },
  {
   "cell_type": "code",
   "execution_count": 8,
   "metadata": {},
   "outputs": [
    {
     "name": "stdout",
     "output_type": "stream",
     "text": [
      "Accuracy Performance:  0.9723\n"
     ]
    }
   ],
   "source": [
    "# test the neural network\n",
    "tlist = []\n",
    "\n",
    "for image in test_data_list:\n",
    "    vals = image.split(',')\n",
    "    correct_val = int(vals[0])\n",
    "    inputs = getInputs(vals)\n",
    "    outputs = nn.query(inputs)\n",
    "    output_val = np.argmax(outputs)\n",
    "    tlist.append(int(output_val==correct_val))\n",
    "    \n",
    "# calculate accuracy performance of neural network\n",
    "test_result = np.asarray(tlist)\n",
    "acc_performance = test_result.sum()/test_result.size\n",
    "print(\"Accuracy Performance: \", acc_performance)"
   ]
  },
  {
   "cell_type": "code",
   "execution_count": 9,
   "metadata": {},
   "outputs": [],
   "source": [
    "def getBestShift(img):\n",
    "    cy,cx = ndimage.measurements.center_of_mass(img)\n",
    "\n",
    "    rows,cols = img.shape\n",
    "    shiftx = np.round(cols/2.0-cx).astype(int)\n",
    "    shifty = np.round(rows/2.0-cy).astype(int)\n",
    "\n",
    "    return shiftx,shifty\n",
    "\n",
    "def shift(img,sx,sy):\n",
    "    rows,cols = img.shape\n",
    "    M = np.float32([[1,0,sx],[0,1,sy]])\n",
    "    shifted = cv2.warpAffine(img,M,(cols,rows))\n",
    "    return shifted"
   ]
  },
  {
   "cell_type": "code",
   "execution_count": null,
   "metadata": {},
   "outputs": [],
   "source": []
  },
  {
   "cell_type": "code",
   "execution_count": 47,
   "metadata": {},
   "outputs": [],
   "source": [
    "def imageProcessing(filepath):\n",
    "    imagedata = []\n",
    "    for img in glob.glob(filepath):\n",
    "        label = int(img[-5:-4])\n",
    "        edit_image = cv2.imread(img, cv2.IMREAD_GRAYSCALE)\n",
    "        edit_image = cv2.resize(255-edit_image, (28, 28))\n",
    "        (thresh, edit_image) = cv2.threshold(edit_image, 128, 255, cv2.THRESH_BINARY | cv2.THRESH_OTSU)\n",
    "        while np.sum(edit_image[0]) == 0:\n",
    "            edit_image = edit_image[1:]\n",
    "\n",
    "        while np.sum(edit_image[:,0]) == 0:\n",
    "            edit_image = np.delete(edit_image,0,1)\n",
    "\n",
    "        while np.sum(edit_image[-1]) == 0:\n",
    "            edit_image = edit_image[:-1]\n",
    "\n",
    "        while np.sum(edit_image[:,-1]) == 0:\n",
    "            edit_image = np.delete(edit_image,-1,1)\n",
    "\n",
    "        rows,cols = edit_image.shape\n",
    "        if rows > cols:\n",
    "            factor = 20.0/rows\n",
    "            rows = 20\n",
    "            cols = int(round(cols*factor))\n",
    "            edit_image = cv2.resize(edit_image, (cols,rows))\n",
    "        else:\n",
    "            factor = 20.0/cols\n",
    "            cols = 20\n",
    "            rows = int(round(rows*factor))\n",
    "            edit_image = cv2.resize(edit_image, (cols, rows))\n",
    "\n",
    "        colsPadding = (int(math.ceil((28-cols)/2.0)),int(math.floor((28-cols)/2.0)))\n",
    "        rowsPadding = (int(math.ceil((28-rows)/2.0)),int(math.floor((28-rows)/2.0)))\n",
    "        edit_image = np.lib.pad(edit_image,(rowsPadding,colsPadding),'constant')\n",
    "        shiftx,shifty = getBestShift(edit_image)\n",
    "        shifted = shift(edit_image,shiftx,shifty)\n",
    "        edit_image = shifted\n",
    "        edit_image = edit_image.flatten()\n",
    "        record = np.append(label,edit_image)\n",
    "        imagedata.append(record)\n",
    "    return imagedata\n"
   ]
  },
  {
   "cell_type": "code",
   "execution_count": 48,
   "metadata": {},
   "outputs": [
    {
     "name": "stdout",
     "output_type": "stream",
     "text": [
      "network says: 0\n",
      "correct!\n",
      "network says: 1\n",
      "correct!\n",
      "network says: 2\n",
      "correct!\n",
      "network says: 3\n",
      "correct!\n",
      "network says: 4\n",
      "correct!\n",
      "network says: 5\n",
      "correct!\n",
      "network says: 6\n",
      "correct!\n",
      "network says: 7\n",
      "correct!\n",
      "network says: 8\n",
      "correct!\n",
      "network says: 9\n",
      "correct!\n"
     ]
    },
    {
     "name": "stderr",
     "output_type": "stream",
     "text": [
      "C:\\ProgramData\\Anaconda3\\lib\\site-packages\\ipykernel_launcher.py:18: RuntimeWarning: overflow encountered in exp\n"
     ]
    }
   ],
   "source": [
    "imagedata = imageProcessing('static/img_test_?.png')\n",
    "for i in range(len(imagedata)):\n",
    "    label = imagedata[i][0]\n",
    "    inputs = imagedata[i][1:]\n",
    "    outputs = nn.query(inputs)\n",
    "    returnval = np.argmax(outputs)\n",
    "    print(\"network says: \" + str(returnval))\n",
    "    if returnval == label:\n",
    "        print(\"correct!\")\n",
    "    else:\n",
    "        print(\"incorrect!\")"
   ]
  },
  {
   "cell_type": "code",
   "execution_count": null,
   "metadata": {},
   "outputs": [],
   "source": []
  },
  {
   "cell_type": "code",
   "execution_count": null,
   "metadata": {},
   "outputs": [],
   "source": []
  },
  {
   "cell_type": "code",
   "execution_count": null,
   "metadata": {},
   "outputs": [],
   "source": []
  }
 ],
 "metadata": {
  "kernelspec": {
   "display_name": "Python 3",
   "language": "python",
   "name": "python3"
  },
  "language_info": {
   "codemirror_mode": {
    "name": "ipython",
    "version": 3
   },
   "file_extension": ".py",
   "mimetype": "text/x-python",
   "name": "python",
   "nbconvert_exporter": "python",
   "pygments_lexer": "ipython3",
   "version": "3.6.10"
  }
 },
 "nbformat": 4,
 "nbformat_minor": 4
}
